{
  "nbformat": 4,
  "nbformat_minor": 0,
  "metadata": {
    "colab": {
      "provenance": []
    },
    "kernelspec": {
      "name": "python3",
      "display_name": "Python 3"
    },
    "language_info": {
      "name": "python"
    }
  },
  "cells": [
    {
      "cell_type": "markdown",
      "source": [
        "TASK 7: Get Basic Sales Summary from a Tiny SQLite Database using Python\n",
        "\n",
        "Objective: Use SQL inside Python to pull simple sales info (like total quantity sold, total revenue), and\n",
        "display it using basic print statements and a simple bar chart"
      ],
      "metadata": {
        "id": "MutaKXcXUauZ"
      }
    },
    {
      "cell_type": "code",
      "source": [
        "import sqlite3\n",
        "import pandas as pd\n",
        "import matplotlib.pyplot as plt"
      ],
      "metadata": {
        "id": "ujTXPbcqTya4"
      },
      "execution_count": 13,
      "outputs": []
    },
    {
      "cell_type": "code",
      "source": [
        "# STEP 1: Connect to SQLite Database (it will create if not exists)\n",
        "conn = sqlite3.connect(\"sales_data.db\")\n",
        "cursor = conn.cursor()"
      ],
      "metadata": {
        "id": "U_19QGY0T0Of"
      },
      "execution_count": 14,
      "outputs": []
    },
    {
      "cell_type": "code",
      "source": [
        "# STEP 2: Create Sales Table\n",
        "cursor.execute('''\n",
        "    CREATE TABLE IF NOT EXISTS sales (\n",
        "        id INTEGER PRIMARY KEY AUTOINCREMENT,\n",
        "        product TEXT,\n",
        "        quantity INTEGER,\n",
        "        price REAL\n",
        "    )\n",
        "''')"
      ],
      "metadata": {
        "colab": {
          "base_uri": "https://localhost:8080/"
        },
        "id": "rLcRvVXTT4PG",
        "outputId": "c37c38df-dad4-4064-d540-37bc285345d3"
      },
      "execution_count": 15,
      "outputs": [
        {
          "output_type": "execute_result",
          "data": {
            "text/plain": [
              "<sqlite3.Cursor at 0x7da40c57e940>"
            ]
          },
          "metadata": {},
          "execution_count": 15
        }
      ]
    },
    {
      "cell_type": "code",
      "source": [
        "# STEP 3: Insert Fake Sales Data (Only run once; comment after first run)\n",
        "sample_data = [\n",
        "    (\"Pen\", 10, 5.0),\n",
        "    (\"Notebook\", 5, 20.0),\n",
        "    (\"Pencil\", 15, 2.0),\n",
        "    (\"Pen\", 8, 5.0),\n",
        "    (\"Notebook\", 3, 20.0),\n",
        "    (\"Pencil\", 10, 2.0),\n",
        "    (\"Marker\", 4, 15.0),\n",
        "    (\"Pen\", 12, 5.0),\n",
        "    (\"Notebook\", 6, 20.0),\n",
        "    (\"Pencil\", 18, 2.0),\n",
        "    (\"Pen\", 7, 5.0),\n",
        "    (\"Notebook\", 2, 20.0),\n",
        "    (\"Pencil\", 20, 2.0),\n",
        "    (\"Pen\", 9, 5.0)\n",
        "]\n",
        "cursor.executemany(\"INSERT INTO sales (product, quantity, price) VALUES (?, ?, ?)\", sample_data)\n",
        "conn.commit()"
      ],
      "metadata": {
        "id": "FFo8KnpnT6-3"
      },
      "execution_count": 16,
      "outputs": []
    },
    {
      "cell_type": "code",
      "source": [
        "\n",
        "# STEP 4: Run SQL Query for Sales Summary\n",
        "query = \"\"\"\n",
        "SELECT\n",
        "    product,\n",
        "    SUM(quantity) AS total_qty,\n",
        "    SUM(quantity * price) AS revenue\n",
        "FROM sales\n",
        "GROUP BY product\n",
        "\"\"\"\n",
        "df = pd.read_sql_query(query, conn)"
      ],
      "metadata": {
        "id": "f1pm6hlCT93v"
      },
      "execution_count": 17,
      "outputs": []
    },
    {
      "cell_type": "code",
      "source": [
        "# STEP 5: Print the Result\n",
        "print(\"=== Basic Sales Summary ===\")\n",
        "print(df)\n"
      ],
      "metadata": {
        "colab": {
          "base_uri": "https://localhost:8080/"
        },
        "id": "z5VdNoWOUACZ",
        "outputId": "a6fbecbb-9460-4574-f708-e528de6617ba"
      },
      "execution_count": 18,
      "outputs": [
        {
          "output_type": "stream",
          "name": "stdout",
          "text": [
            "=== Basic Sales Summary ===\n",
            "    product  total_qty  revenue\n",
            "0    Marker         12    180.0\n",
            "1  Notebook         32    640.0\n",
            "2       Pen         82    410.0\n",
            "3    Pencil        113    226.0\n"
          ]
        }
      ]
    },
    {
      "cell_type": "code",
      "source": [
        "# STEP 6: Create a Bar Chart for Revenue\n",
        "plt.figure(figsize=(8, 5))\n",
        "df.plot(kind='bar', x='product', y='revenue', color='lightgreen', legend=False)\n",
        "plt.title(\"Revenue by Product\")\n",
        "plt.xlabel(\"Product\")\n",
        "plt.ylabel(\"Total Revenue\")\n",
        "plt.tight_layout()\n",
        "plt.savefig(\"sales_chart.png\")  # Optional: Save image\n",
        "plt.show()\n"
      ],
      "metadata": {
        "colab": {
          "base_uri": "https://localhost:8080/",
          "height": 504
        },
        "id": "334ZeVFDUCZe",
        "outputId": "bf52f99c-bd82-4959-f039-bd004bc24f26"
      },
      "execution_count": 19,
      "outputs": [
        {
          "output_type": "display_data",
          "data": {
            "text/plain": [
              "<Figure size 800x500 with 0 Axes>"
            ]
          },
          "metadata": {}
        },
        {
          "output_type": "display_data",
          "data": {
            "text/plain": [
              "<Figure size 640x480 with 1 Axes>"
            ],
            "image/png": "[encoded data removed]"
          },
          "metadata": {}
        }
      ]
    },
    {
      "cell_type": "code",
      "source": [
        "# STEP 7: Close the Database Connection\n",
        "conn.close()\n"
      ],
      "metadata": {
        "id": "kTJ4eKzcUEje"
      },
      "execution_count": 20,
      "outputs": []
    },
    {
      "cell_type": "code",
      "source": [],
      "metadata": {
        "id": "iSHr7_heTgnV"
      },
      "execution_count": 20,
      "outputs": []
    }
  ]
}